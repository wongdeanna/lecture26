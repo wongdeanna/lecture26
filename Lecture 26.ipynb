{
 "cells": [
  {
   "cell_type": "markdown",
   "metadata": {},
   "source": [
    "# Lecture 26\n",
    "\n",
    "### GitHub Tutorial\n"
   ]
  },
  {
   "cell_type": "markdown",
   "metadata": {},
   "source": [
    "# 1. GitHub\n",
    "\n",
    "### Version control and storage of projects is a common task for larger projects, especially when there are multiple users updating the project at the same time. GitHub is a developer platform  that allows users to create, store, manage, and share their code with easy access. \n",
    "\n",
    "### Our goal today is to set up your GitHub account and complete our first push-commit-pull-merge cycle. \n",
    "\n",
    "\n",
    "### * Create a GitHub Account:\n",
    "### * Create and use a repository\n",
    "### * Start and manage a new branch\n",
    "### * Make changes to a file and push them to GitHub\n",
    "### * Open and merge a pull request\n",
    "\n",
    "### The following link contains a lot of great resources for GitHub. We will be using selected sections of the GitHub tutorials. \n",
    "\n",
    "https://docs.github.com/en/get-started\n"
   ]
  },
  {
   "cell_type": "markdown",
   "metadata": {},
   "source": [
    "# Getting Started\n",
    "\n",
    "### Before we use begin using `GitHub`, we will need to create a `GitHub` account. \n",
    "\n",
    "\n",
    "## * Creating an account on `GitHub`:\n",
    "\n",
    "### Go to the following link and create your GitHub account \n",
    "\n",
    "https://github.com/\n",
    "\n",
    "### The first part of this tutorial will focus on using GitHub entirely through the browser. Time permitting, we will then introduce GIT and the using the `GIT Bash` to transfer material from your desktop to GitHub.\n",
    "\n",
    "\n",
    "\n"
   ]
  },
  {
   "cell_type": "markdown",
   "metadata": {},
   "source": [
    "# 2. Creating a repository and branches: \n",
    "\n",
    "### A repository functions similarly to a folder on your computer. A user can have multiple repositories and you should organize these repositories by project.\n",
    "\n",
    "### When creating a repository, you will be asked to create a `README` file, which describes to the newcomers what project this repository contains.\n",
    "\n",
    "### * In the upper-right corner of any page, click the plus buttor and select 'New repository' \n",
    "### * Give your repository a name.\n",
    "### * Give your repository a short description. \n",
    "### * Check the box to create the `README` file.\n",
    "\n",
    "\n",
    "### You can edit your `README` file directly in the GitHub repository. When you save the document, your changes are automatically updated and your previous version overridden.  \n",
    "\n",
    "<br></br>\n",
    "\n",
    "\n",
    "\n",
    "### But wait... Dr. Clark said that the whole point of GitHub was version control! Why didn't it save alternate versions.... \n",
    "\n",
    "<br></br> \n",
    "\n",
    "### You can control for versions by making `branches` \n",
    "\n",
    "### By default, your repository has one branch called 'main' and is considered the base of all other branches. \n",
    "### Changes in branches are not made in the 'main' branch until they are merged together\n",
    "\n",
    "![NOT FOUND!!!!!!!!!!](branching.png)\n",
    "\n",
    "\n",
    "<br></br>\n",
    "\n",
    "### * Click the code tab of your repository\n",
    "### * Click the dropdown tab next to the branch called 'main' \n",
    "\n",
    "<img src = 'branch-selection-dropdown-global-nav-update.png' width = 500/> \n",
    "\n",
    "### * Type a branch name, readme-edits, into the text box.\n",
    "### * Click Create branch: readme-edits from main.\n",
    "\n",
    "<img src = 'new-branch.png' width = 500/> \n",
    "\n",
    "### You will notice that the your branch name has updated to readme-edits\n",
    "\n"
   ]
  },
  {
   "cell_type": "markdown",
   "metadata": {},
   "source": [
    "# 3. Making Changes and Commits\n",
    "\n",
    "### Now that we have created a branch, all changes we make will happen to the 'readme-edits' branch instead of the 'main' branch. Let's make some changes to the readme file and see how to merge those changes to the main branch.\n",
    "\n",
    "### * Click the 'README' file in the brance you've created and click the edit button (looks like a pencil)\n",
    "\n",
    "### * In the editor, include some information about the course and project.\n",
    "\n",
    "### * Click 'Commit Changes...' \n",
    "\n",
    "### * Write a descripton about the changes you have made and select 'Commit Changes.'\n",
    "\n",
    "<br></br>\n",
    "\n",
    "### The changes made in this branch are not saved to the main branch! Navigate to the 'main' branch to see the differences.\n",
    "\n",
    "\n",
    "### If you navigate back to your repository, you will see that the branch 'readme-edits' has a message 'readme-edits had recent pushes 1 minute ago.'"
   ]
  },
  {
   "cell_type": "markdown",
   "metadata": {},
   "source": [
    "# 4. Open a Pull request and Merge:\n",
    "\n",
    "### As soon as you make a commit, you can open a Pull request. These pull requests are where you can compare the changes made on a separate branch. \n",
    "\n",
    "### * Click the 'Pull Requests' tab on your repository.\n",
    "### * Click 'New Pull Request' and select the 'readme-edits' branch.\n",
    "### * Look over the original changes\n",
    "### * If everything looks good, then create the pull request. \n",
    "### * At the bottom of the pull request you will see a button to merge pull request changes into main. \n",
    "### * You will be given the option to delete the branch once all changes have been merged.  Doing so is good practice, you can always make more branches when you plan on making more changes. \n"
   ]
  },
  {
   "cell_type": "markdown",
   "metadata": {},
   "source": [
    "# 5. Creating Folders and uploading files: \n",
    "\n",
    "### To upload a file, press the '+' button in the top right of your repository frame. \n",
    "\n",
    "### To create a new folder, add a '/' to the end of your file name. GitHub does not allow you to create a new folder without \n",
    "\n",
    "### Let's practice the workflow my creating and uploading some homework assignments and lecture notes. "
   ]
  },
  {
   "cell_type": "code",
   "execution_count": null,
   "metadata": {},
   "outputs": [],
   "source": []
  }
 ],
 "metadata": {
  "kernelspec": {
   "display_name": "Python 3 (ipykernel)",
   "language": "python",
   "name": "python3"
  },
  "language_info": {
   "codemirror_mode": {
    "name": "ipython",
    "version": 3
   },
   "file_extension": ".py",
   "mimetype": "text/x-python",
   "name": "python",
   "nbconvert_exporter": "python",
   "pygments_lexer": "ipython3",
   "version": "3.11.5"
  },
  "name": "_merged_merged"
 },
 "nbformat": 4,
 "nbformat_minor": 4
}
